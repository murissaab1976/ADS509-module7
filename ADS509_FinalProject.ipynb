{
 "cells": [
  {
   "cell_type": "markdown",
   "metadata": {},
   "source": [
    "```\n",
    "Muris Saab / Subin An\n",
    "ADS509 - Final Project\n",
    "University of San Diego\n",
    "```"
   ]
  },
  {
   "cell_type": "code",
   "execution_count": 19,
   "metadata": {},
   "outputs": [],
   "source": [
    "import requests\n",
    "import pandas as pd\n",
    "\n",
    "url = 'https://newsapi.org/v2/everything?q=Trump&apiKey=**********************'\n",
    "response = requests.get(url)\n",
    "response.json()\n",
    "data = response.json()\n",
    "articles = data['articles']\n",
    "df = pd.DataFrame(articles)\n",
    "df.to_csv('news_articles2.csv', index=False)\n",
    "\n"
   ]
  },
  {
   "cell_type": "code",
   "execution_count": 20,
   "metadata": {},
   "outputs": [
    {
     "data": {
      "text/html": [
       "<div>\n",
       "<style scoped>\n",
       "    .dataframe tbody tr th:only-of-type {\n",
       "        vertical-align: middle;\n",
       "    }\n",
       "\n",
       "    .dataframe tbody tr th {\n",
       "        vertical-align: top;\n",
       "    }\n",
       "\n",
       "    .dataframe thead th {\n",
       "        text-align: right;\n",
       "    }\n",
       "</style>\n",
       "<table border=\"1\" class=\"dataframe\">\n",
       "  <thead>\n",
       "    <tr style=\"text-align: right;\">\n",
       "      <th></th>\n",
       "      <th>source</th>\n",
       "      <th>author</th>\n",
       "      <th>title</th>\n",
       "      <th>description</th>\n",
       "      <th>url</th>\n",
       "      <th>urlToImage</th>\n",
       "      <th>publishedAt</th>\n",
       "      <th>content</th>\n",
       "    </tr>\n",
       "  </thead>\n",
       "  <tbody>\n",
       "    <tr>\n",
       "      <th>0</th>\n",
       "      <td>{'id': None, 'name': '[Removed]'}</td>\n",
       "      <td>NaN</td>\n",
       "      <td>[Removed]</td>\n",
       "      <td>[Removed]</td>\n",
       "      <td>https://removed.com</td>\n",
       "      <td>NaN</td>\n",
       "      <td>2024-09-17T13:00:22Z</td>\n",
       "      <td>[Removed]</td>\n",
       "    </tr>\n",
       "    <tr>\n",
       "      <th>1</th>\n",
       "      <td>{'id': 'wired', 'name': 'Wired'}</td>\n",
       "      <td>Leah Feiger</td>\n",
       "      <td>Will Elon Musk Tip the Election for Trump?</td>\n",
       "      <td>The increasingly outspoken tech mogul spoke at...</td>\n",
       "      <td>https://www.wired.com/story/elon-musk-donald-t...</td>\n",
       "      <td>https://media.wired.com/photos/67041515cef303b...</td>\n",
       "      <td>2024-10-10T21:49:47Z</td>\n",
       "      <td>Leah Feiger: So Trump brings Musk out, he call...</td>\n",
       "    </tr>\n",
       "    <tr>\n",
       "      <th>2</th>\n",
       "      <td>{'id': None, 'name': 'Gizmodo.com'}</td>\n",
       "      <td>Lucas Ropek</td>\n",
       "      <td>The Postmaster General Is Stoking Election Fea...</td>\n",
       "      <td>Like four years ago, the Trump-nominated Trump...</td>\n",
       "      <td>https://gizmodo.com/the-postmaster-general-is-...</td>\n",
       "      <td>https://gizmodo.com/app/uploads/2024/09/Postma...</td>\n",
       "      <td>2024-09-20T20:05:21Z</td>\n",
       "      <td>Ever since he was nominated by Donald Trump’s ...</td>\n",
       "    </tr>\n",
       "    <tr>\n",
       "      <th>3</th>\n",
       "      <td>{'id': 'wired', 'name': 'Wired'}</td>\n",
       "      <td>Jason Parham</td>\n",
       "      <td>The Shade Room Founder Is Ready to Dial Down t...</td>\n",
       "      <td>Angie Nwandu dishes on Diddy, Donald Trump, th...</td>\n",
       "      <td>https://www.wired.com/story/dial-up-angie-nwan...</td>\n",
       "      <td>https://media.wired.com/photos/66ec717e23695b0...</td>\n",
       "      <td>2024-09-20T17:49:30Z</td>\n",
       "      <td>Angie Nwandu launched The Shade Room in 2014 a...</td>\n",
       "    </tr>\n",
       "    <tr>\n",
       "      <th>4</th>\n",
       "      <td>{'id': 'wired', 'name': 'Wired'}</td>\n",
       "      <td>Alistair Charlton</td>\n",
       "      <td>Trump's $100,000 Watches Are the Most Tragic C...</td>\n",
       "      <td>Former president Donald Trump wants you to buy...</td>\n",
       "      <td>https://www.wired.com/story/trumps-dollar10000...</td>\n",
       "      <td>https://media.wired.com/photos/66f6c5b5c143415...</td>\n",
       "      <td>2024-09-27T17:48:08Z</td>\n",
       "      <td>Celebrities partnering with watch brands is no...</td>\n",
       "    </tr>\n",
       "  </tbody>\n",
       "</table>\n",
       "</div>"
      ],
      "text/plain": [
       "                                source             author  \\\n",
       "0    {'id': None, 'name': '[Removed]'}                NaN   \n",
       "1     {'id': 'wired', 'name': 'Wired'}        Leah Feiger   \n",
       "2  {'id': None, 'name': 'Gizmodo.com'}        Lucas Ropek   \n",
       "3     {'id': 'wired', 'name': 'Wired'}       Jason Parham   \n",
       "4     {'id': 'wired', 'name': 'Wired'}  Alistair Charlton   \n",
       "\n",
       "                                               title  \\\n",
       "0                                          [Removed]   \n",
       "1         Will Elon Musk Tip the Election for Trump?   \n",
       "2  The Postmaster General Is Stoking Election Fea...   \n",
       "3  The Shade Room Founder Is Ready to Dial Down t...   \n",
       "4  Trump's $100,000 Watches Are the Most Tragic C...   \n",
       "\n",
       "                                         description  \\\n",
       "0                                          [Removed]   \n",
       "1  The increasingly outspoken tech mogul spoke at...   \n",
       "2  Like four years ago, the Trump-nominated Trump...   \n",
       "3  Angie Nwandu dishes on Diddy, Donald Trump, th...   \n",
       "4  Former president Donald Trump wants you to buy...   \n",
       "\n",
       "                                                 url  \\\n",
       "0                                https://removed.com   \n",
       "1  https://www.wired.com/story/elon-musk-donald-t...   \n",
       "2  https://gizmodo.com/the-postmaster-general-is-...   \n",
       "3  https://www.wired.com/story/dial-up-angie-nwan...   \n",
       "4  https://www.wired.com/story/trumps-dollar10000...   \n",
       "\n",
       "                                          urlToImage           publishedAt  \\\n",
       "0                                                NaN  2024-09-17T13:00:22Z   \n",
       "1  https://media.wired.com/photos/67041515cef303b...  2024-10-10T21:49:47Z   \n",
       "2  https://gizmodo.com/app/uploads/2024/09/Postma...  2024-09-20T20:05:21Z   \n",
       "3  https://media.wired.com/photos/66ec717e23695b0...  2024-09-20T17:49:30Z   \n",
       "4  https://media.wired.com/photos/66f6c5b5c143415...  2024-09-27T17:48:08Z   \n",
       "\n",
       "                                             content  \n",
       "0                                          [Removed]  \n",
       "1  Leah Feiger: So Trump brings Musk out, he call...  \n",
       "2  Ever since he was nominated by Donald Trump’s ...  \n",
       "3  Angie Nwandu launched The Shade Room in 2014 a...  \n",
       "4  Celebrities partnering with watch brands is no...  "
      ]
     },
     "execution_count": 20,
     "metadata": {},
     "output_type": "execute_result"
    }
   ],
   "source": [
    "import pandas as pd\n",
    "\n",
    "# Load the user's CSV file to inspect its contents\n",
    "file_path = 'news_articles.csv'\n",
    "news_articles_df = pd.read_csv(file_path)\n",
    "\n",
    "# Display the first few rows of the dataframe to understand its structure\n",
    "news_articles_df.head()\n"
   ]
  },
  {
   "cell_type": "code",
   "execution_count": 8,
   "metadata": {},
   "outputs": [
    {
     "data": {
      "text/plain": [
       "(                                             content  \\\n",
       " 0                                          [Removed]   \n",
       " 1  Leah Feiger: So Trump brings Musk out, he call...   \n",
       " 2  Ever since he was nominated by Donald Trump’s ...   \n",
       " 3  Angie Nwandu launched The Shade Room in 2014 a...   \n",
       " 4  Celebrities partnering with watch brands is no...   \n",
       " \n",
       "                                      cleaned_content  \n",
       " 0                                            removed  \n",
       " 1  leah feiger so trump brings musk out he calls ...  \n",
       " 2  ever since he was nominated by donald trumps a...  \n",
       " 3  angie nwandu launched the shade room in as a s...  \n",
       " 4  celebrities partnering with watch brands is no...  ,\n",
       " (80, 1000))"
      ]
     },
     "execution_count": 8,
     "metadata": {},
     "output_type": "execute_result"
    }
   ],
   "source": [
    "from sklearn.feature_extraction.text import TfidfVectorizer\n",
    "from sklearn.model_selection import train_test_split\n",
    "import re\n",
    "\n",
    "# Function to clean the text data\n",
    "def clean_text(text):\n",
    "    # Remove special characters, numbers, and extra spaces\n",
    "    text = re.sub(r'[^A-Za-z\\s]', '', text)\n",
    "    text = re.sub(r'\\s+', ' ', text).strip()\n",
    "    return text.lower()\n",
    "\n",
    "# Applying text cleaning to the 'content' column\n",
    "news_articles_df['cleaned_content'] = news_articles_df['content'].apply(lambda x: clean_text(str(x)))\n",
    "\n",
    "# Vectorizing the cleaned content using TF-IDF\n",
    "tfidf_vectorizer = TfidfVectorizer(stop_words='english', max_features=1000)\n",
    "tfidf_matrix = tfidf_vectorizer.fit_transform(news_articles_df['cleaned_content'])\n",
    "\n",
    "# Splitting the data into training and test sets (for classification later)\n",
    "X_train, X_test = train_test_split(tfidf_matrix, test_size=0.2, random_state=42)\n",
    "\n",
    "# Display the cleaned data and a preview of the TF-IDF matrix\n",
    "news_articles_df[['content', 'cleaned_content']].head(), X_train.shape\n"
   ]
  },
  {
   "cell_type": "markdown",
   "metadata": {},
   "source": [
    "The data has been successfully preprocessed. The `cleaned_content` column contains cleaned versions of the article text, and the TF-IDF vectorization has created a matrix with 1000 features (terms) for each article. The data has been split into training and test sets, with 80 articles in the training set."
   ]
  },
  {
   "cell_type": "code",
   "execution_count": 9,
   "metadata": {},
   "outputs": [
    {
     "data": {
      "text/plain": [
       "['Topic 1: trump, chars, presidential, election, candidate, president, republican, ballot, debate, harris',\n",
       " 'Topic 2: trump, social, chars, media, company, platform, donald, hackers, president, second',\n",
       " 'Topic 3: images, trump, chars, musk, trumps, getty, donald, said, campaign, thursday',\n",
       " 'Topic 4: removed, trump, donald, musk, president, chars, elon, ryan, vance, good',\n",
       " 'Topic 5: chars, donald, trump, springfield, news, ohio, president, spreading, eating, election']"
      ]
     },
     "execution_count": 9,
     "metadata": {},
     "output_type": "execute_result"
    }
   ],
   "source": [
    "from sklearn.decomposition import LatentDirichletAllocation\n",
    "\n",
    "# Initialize the LDA model\n",
    "lda_model = LatentDirichletAllocation(n_components=5, random_state=42)\n",
    "\n",
    "# Fit the model on the TF-IDF matrix\n",
    "lda_topics = lda_model.fit_transform(tfidf_matrix)\n",
    "\n",
    "# Get the top words for each topic\n",
    "n_top_words = 10\n",
    "tfidf_feature_names = tfidf_vectorizer.get_feature_names_out()\n",
    "\n",
    "# Function to display the top words for each topic\n",
    "def display_topics(model, feature_names, n_top_words):\n",
    "    topics = []\n",
    "    for topic_idx, topic in enumerate(model.components_):\n",
    "        top_words = [feature_names[i] for i in topic.argsort()[:-n_top_words - 1:-1]]\n",
    "        topics.append(f\"Topic {topic_idx+1}: {', '.join(top_words)}\")\n",
    "    return topics\n",
    "\n",
    "# Display the top words for each of the topics\n",
    "topics = display_topics(lda_model, tfidf_feature_names, n_top_words)\n",
    "topics\n"
   ]
  },
  {
   "cell_type": "markdown",
   "metadata": {},
   "source": [
    "The LDA model has identified five topics from the news articles. Here are the top words associated with each topic:\n",
    "\n",
    "- Topic 1: trump, chars, presidential, election, candidate, president, republican, ballot, debate, harris\n",
    "- Topic 2: trump, social, chars, media, company, platform, donald, hackers, president, second\n",
    "- Topic 3: images, trump, chars, musk, trumps, getty, donald, said, campaign, thursday\n",
    "- Topic 4: removed, trump, donald, musk, president, chars, elon, ryan, vance, good\n",
    "- Topic 5: chars, donald, trump, springfield, news, ohio, president, spreading, eating, election\n",
    "\n",
    "These topics seem to revolve around Trump, elections, media, and social platforms, which align with the nature of the articles."
   ]
  },
  {
   "cell_type": "markdown",
   "metadata": {},
   "source": [
    "# Using NMF for topic discovery "
   ]
  },
  {
   "cell_type": "code",
   "execution_count": 10,
   "metadata": {},
   "outputs": [
    {
     "data": {
      "text/plain": [
       "['Topic 1: trump, donald, president, chars, images, assassination, apparent, musk, attempt, harris',\n",
       " 'Topic 2: removed, interview, cbs, license, harris, ballot, trumps, new, cars, fcc',\n",
       " 'Topic 3: vance, jd, presidential, debate, ohio, walz, tim, eating, springfield, night',\n",
       " 'Topic 4: addled, smartmatic, presidents, theories, trumphappy, newsmax, agreed, broadcasting, defamation, network',\n",
       " 'Topic 5: reading, start, morning, newsletter, day, delivered, inbox, todays, listen, need']"
      ]
     },
     "execution_count": 10,
     "metadata": {},
     "output_type": "execute_result"
    }
   ],
   "source": [
    "from sklearn.decomposition import NMF\n",
    "\n",
    "# Initialize the NMF model\n",
    "nmf_model = NMF(n_components=5, random_state=42)\n",
    "\n",
    "# Fit the model on the TF-IDF matrix\n",
    "nmf_topics = nmf_model.fit_transform(tfidf_matrix)\n",
    "\n",
    "# Display the top words for each of the NMF topics\n",
    "nmf_topics_list = display_topics(nmf_model, tfidf_feature_names, n_top_words)\n",
    "nmf_topics_list\n"
   ]
  },
  {
   "cell_type": "markdown",
   "metadata": {},
   "source": [
    "The NMF model has identified five topics from the news articles. Here are the top words for each topic:\n",
    "\n",
    "- Topic 1: trump, donald, president, chars, images, assassination, apparent, musk, attempt, harris\n",
    "- Topic 2: removed, interview, cbs, license, harris, ballot, trumps, new, cars, fcc\n",
    "- Topic 3: vance, jd, presidential, debate, ohio, walz, tim, eating, springfield, night\n",
    "- Topic 4: addled, smartmatic, presidents, theories, trumphappy, newsmax, agreed, broadcasting, defamation, network\n",
    "- Topic 5: reading, start, morning, newsletter, day, delivered, inbox, todays, listen, need\n",
    "\n",
    "These topics seem to cover political figures, media-related themes, and newsletters, offering different insights compared to LDA. "
   ]
  },
  {
   "cell_type": "markdown",
   "metadata": {},
   "source": [
    "Let's compare the LDA and NMF models across several aspects, focusing on the topics they generated and their suitability for the task:\n",
    "\n",
    "#### 1. **Topic Interpretability**:\n",
    "   - **LDA**: \n",
    "     - Topics are relatively straightforward, with terms related to Trump, media, elections, and political figures.\n",
    "     - Example: \"Topic 1\" revolves around Trump, presidential election, and related candidates like Harris, while other topics touch on social media and Musk.\n",
    "   - **NMF**: \n",
    "     - NMF generated more specific and coherent topics. For example, \"Topic 1\" refers to Trump's assassination attempts, and \"Topic 3\" focuses on specific figures like JD Vance and Tim Walz, who may be linked to debates.\n",
    "     - Example: \"Topic 4\" shows focus on legal theories and defamation suits involving Trump, which could be related to his controversial political activities.\n",
    "\n",
    "   **Observation**: NMF seems to provide more detailed topics with clearer distinctions between subtopics, whereas LDA offers broader themes that cover overarching issues.\n",
    "\n",
    "#### 2. **Top Words Representation**:\n",
    "   - **LDA**: \n",
    "     - LDA provides top words that often overlap across topics. For example, \"trump\" and \"chars\" appear frequently across all topics, making it harder to differentiate specific subtopics.\n",
    "   - **NMF**: \n",
    "     - NMF provides more topic-specific terms, which helps in distinguishing between topics more clearly. For instance, \"smartmatic\" and \"defamation\" in NMF’s \"Topic 4\" directly point to legal controversies, which are absent from LDA topics.\n",
    "\n",
    "   **Observation**: NMF generates more contextually relevant terms that describe niche aspects of a subject, while LDA’s output is broader and tends to repeat certain key terms across multiple topics.\n",
    "\n",
    "#### 3. **Topic Focus**:\n",
    "   - **LDA**:\n",
    "     - The topics produced by LDA are often clustered around general themes like Trump’s role in politics, media, and the presidency.\n",
    "     - Example: \"Topic 2\" mixes \"trump,\" \"social,\" and \"media\" together, pointing to a social media narrative but without distinct clarity.\n",
    "   - **NMF**: \n",
    "     - NMF yields narrower and more targeted topics. For example, \"Topic 5\" in NMF focuses on newsletters and daily updates, which is a distinct sub-theme that is not as clearly captured in LDA.\n",
    "   \n",
    "   **Observation**: NMF offers more focused and well-defined topics, making it easier to associate content with specific subcategories, while LDA maintains a broader scope of general themes.\n",
    "\n",
    "#### 4. **Suitability for Classification**:\n",
    "   - **LDA**:\n",
    "     - Since LDA models topics as distributions over words, it might work well for cases where articles span multiple broad themes. However, the overlap between topics could reduce the model's usefulness in highly specific classification tasks.\n",
    "   - **NMF**:\n",
    "     - NMF’s focus on discovering non-negative parts makes it ideal for classification where distinct, non-overlapping topics are needed. It allows for clearer differentiation between articles based on more specific themes.\n",
    "\n",
    "   **Observation**: For classification into predefined categories, NMF might be better suited because it provides cleaner separations between topics, while LDA’s topic overlap could blur boundaries between categories.\n",
    "\n",
    "#### 5. **Practical Usage**:\n",
    "   - **LDA**:\n",
    "     - LDA is a probabilistic model, making it better for understanding how different documents share multiple overlapping topics. It’s useful for exploratory analysis in a broader sense but may be harder to fine-tune for classification.\n",
    "   - **NMF**:\n",
    "     - NMF, being a matrix factorization approach, tends to identify key components more distinctly, which could be more practical in automating classification tasks.\n",
    "\n",
    "#### **Summary of the Comparison**:\n",
    "- **LDA**:\n",
    "  - Good for broader topic discovery, with overlapping topics that cover multiple aspects of an issue.\n",
    "  - Produces somewhat repetitive key terms across topics, reducing clarity for specific subtopic classification.\n",
    "- **NMF**:\n",
    "  - Provides more focused, non-overlapping topics, making it easier to classify and understand distinct sub-themes.\n",
    "  - Topics are narrower and more targeted, which could improve the alignment with predefined categories in classification tasks.\n",
    "\n",
    "Given these observations, **NMF** appears to offer clearer, more distinct topics that would likely perform better for classifying articles into predefined categories. "
   ]
  },
  {
   "cell_type": "markdown",
   "metadata": {},
   "source": [
    "# Visualize the topis discovered with NMF"
   ]
  },
  {
   "cell_type": "code",
   "execution_count": 24,
   "metadata": {},
   "outputs": [
    {
     "data": {
      "image/png": "[encoded data removed]",
      "text/plain": [
       "<Figure size 2000x500 with 5 Axes>"
      ]
     },
     "metadata": {},
     "output_type": "display_data"
    }
   ],
   "source": [
    "import matplotlib.pyplot as plt\n",
    "import numpy as np\n",
    "\n",
    "# Visualize the top words per topic discovered by NMF\n",
    "def plot_top_words(model, feature_names, n_top_words, title):\n",
    "    fig, axes = plt.subplots(1, 5, figsize=(20, 5), sharex=True)\n",
    "    axes = axes.flatten()\n",
    "    \n",
    "    for topic_idx, topic in enumerate(model.components_):\n",
    "        top_words_idx = topic.argsort()[:-n_top_words - 1:-1]\n",
    "        top_words = [feature_names[i] for i in top_words_idx]\n",
    "        weights = topic[top_words_idx]\n",
    "        \n",
    "        ax = axes[topic_idx]\n",
    "        ax.barh(top_words, weights, color='lightblue')\n",
    "        ax.set_title(f'Topic {topic_idx+1}')\n",
    "        ax.invert_yaxis()\n",
    "        ax.tick_params(axis='both', which='major', labelsize=10)\n",
    "    \n",
    "    plt.suptitle(title, fontsize=16)\n",
    "    plt.tight_layout()\n",
    "    plt.subplots_adjust(top=0.85)\n",
    "    plt.show()\n",
    "\n",
    "# Plot the top words for each topic discovered by NMF\n",
    "plot_top_words(nmf_model, tfidf_feature_names, n_top_words, \"Top Words per Topic (NMF)\")\n"
   ]
  },
  {
   "cell_type": "markdown",
   "metadata": {},
   "source": [
    "The chart displays the top 10 words for each of the five topics discovered by the NMF model, along with their importance (weights). Here's an interpretation of each topic:\n",
    "\n",
    "1. **Topic 1**:\n",
    "   - **Top Words**: trump, donald, president, chars, images, assassination, apparent, musk, attempt, harris\n",
    "   - **Interpretation**: This topic revolves around Donald Trump as the president, with mentions of \"assassination\" and \"attempt,\" indicating news related to political controversies or threats. \"Musk\" and \"Harris\" suggest the inclusion of figures like Elon Musk and Kamala Harris in the discussion.\n",
    "\n",
    "2. **Topic 2**:\n",
    "   - **Top Words**: removed, interview, cbs, license, harris, ballot, trumps, new, cars, fcc\n",
    "   - **Interpretation**: This topic seems to cover interviews and media-related content, possibly involving CBS, elections (\"ballot\"), and regulation bodies like the FCC. The mention of Harris and Trump suggests election-related interviews.\n",
    "\n",
    "3. **Topic 3**:\n",
    "   - **Top Words**: vance, jd, presidential, debate, ohio, walz, tim, eating, springfield, night\n",
    "   - **Interpretation**: This topic focuses on specific individuals, such as JD Vance and Tim Walz, in the context of presidential debates or campaigns, likely relating to political events in Ohio or other localities like Springfield.\n",
    "\n",
    "4. **Topic 4**:\n",
    "   - **Top Words**: addled, smartmatic, presidents, theories, trumphappy, newsmax, agreed, broadcasting, defamation, network\n",
    "   - **Interpretation**: This topic covers legal and political controversies, particularly surrounding the Smartmatic lawsuits, defamation cases, and conspiracy theories related to elections. Newsmax, a media outlet known for its coverage of Trump-related topics, is also prominent here.\n",
    "\n",
    "5. **Topic 5**:\n",
    "   - **Top Words**: reading, start, morning, newsletter, day, delivered, inbox, todays, listen, need\n",
    "   - **Interpretation**: This topic is focused on news delivery and newsletters, likely related to daily news updates or curated content that is sent to readers (\"inbox,\" \"newsletter\"). This is a general news dissemination theme."
   ]
  },
  {
   "cell_type": "markdown",
   "metadata": {},
   "source": [
    "# Using bigrams for more focused topics"
   ]
  },
  {
   "cell_type": "code",
   "execution_count": 25,
   "metadata": {},
   "outputs": [
    {
     "data": {
      "text/plain": [
       "['Topic 1: donald trump, president donald, assassination attempt, palm beach, west palm, apparent assassination, elon musk, secret service, beach fla, course west',\n",
       " 'Topic 2: spreading presidents, network accused, conspiracy theories, defamation case, trumphappy news, election conspiracy, broadcasting network, settle defamation, theories agreed, smartmatic chars',\n",
       " 'Topic 3: youre reading, news need, listen podcast, day todays, delivered inbox, inbox listen, morning youre, start day, good morning, need start',\n",
       " 'Topic 4: jd vance, tim walz, vice presidential, vance tim, presidential election, tuesday night, springfield ohio, sells silicon, vance sells, silicon valley',\n",
       " 'Topic 5: ullidonald trump, images ullidonald, president donald, dietschgetty images, trump says, springfield ohio, visit springfield, november election, donald trumps, run lilihopefully']"
      ]
     },
     "execution_count": 25,
     "metadata": {},
     "output_type": "execute_result"
    }
   ],
   "source": [
    "# Update the TF-IDF vectorizer to use bigrams instead of single words\n",
    "tfidf_vectorizer_bigrams = TfidfVectorizer(stop_words='english', ngram_range=(2, 2), max_features=1000)\n",
    "\n",
    "# Re-fit the TF-IDF model with bigrams\n",
    "tfidf_matrix_bigrams = tfidf_vectorizer_bigrams.fit_transform(news_articles_df['cleaned_content'])\n",
    "\n",
    "# Re-run NMF with bigrams\n",
    "nmf_model_bigrams = NMF(n_components=5, random_state=42)\n",
    "nmf_topics_bigrams = nmf_model_bigrams.fit_transform(tfidf_matrix_bigrams)\n",
    "\n",
    "# Display the top bigrams for each of the topics\n",
    "tfidf_feature_names_bigrams = tfidf_vectorizer_bigrams.get_feature_names_out()\n",
    "bigrams_topics_list = display_topics(nmf_model_bigrams, tfidf_feature_names_bigrams, n_top_words)\n",
    "bigrams_topics_list\n"
   ]
  },
  {
   "cell_type": "markdown",
   "metadata": {},
   "source": [
    "The topics have been refined using bigrams, leading to more focused themes. Here's the interpretation of the updated topics:\n",
    "\n",
    "1. **Topic 1**:\n",
    "   - **Top Bigrams**: donald trump, president donald, assassination attempt, palm beach, west palm, apparent assassination, elon musk, secret service\n",
    "   - **Interpretation**: This topic centers around Donald Trump, with mentions of an assassination attempt and events in Palm Beach. There’s also a connection to Elon Musk and security measures.\n",
    "\n",
    "2. **Topic 2**:\n",
    "   - **Top Bigrams**: spreading presidents, network accused, conspiracy theories, defamation case, election conspiracy, broadcasting network, smartmatic chars\n",
    "   - **Interpretation**: This topic focuses on conspiracy theories, defamation cases, and broadcasting networks, specifically around Trump and election-related controversies.\n",
    "\n",
    "3. **Topic 3**:\n",
    "   - **Top Bigrams**: youre reading, news need, listen podcast, day todays, delivered inbox, good morning\n",
    "   - **Interpretation**: This topic revolves around newsletters and podcasts, highlighting the dissemination of daily news and updates.\n",
    "\n",
    "4. **Topic 4**:\n",
    "   - **Top Bigrams**: jd vance, tim walz, vice presidential, vance tim, presidential election, springfield ohio\n",
    "   - **Interpretation**: This topic focuses on political figures such as JD Vance and Tim Walz, touching on vice-presidential elections and events in Springfield, Ohio.\n",
    "\n",
    "5. **Topic 5**:\n",
    "   - **Top Bigrams**: ullidonald trump, president donald, trump says, november election, springfield ohio\n",
    "   - **Interpretation**: This topic involves Donald Trump’s statements and activities, particularly around elections and his visits to Springfield, Ohio."
   ]
  },
  {
   "cell_type": "markdown",
   "metadata": {},
   "source": [
    "# Coherence score "
   ]
  },
  {
   "cell_type": "code",
   "execution_count": 2,
   "metadata": {},
   "outputs": [
    {
     "name": "stdout",
     "output_type": "stream",
     "text": [
      "Coherence Score: 0.7396321541439024\n"
     ]
    }
   ],
   "source": [
    "import pandas as pd\n",
    "import re\n",
    "from sklearn.decomposition import NMF\n",
    "from sklearn.feature_extraction.text import TfidfVectorizer\n",
    "from gensim.corpora.dictionary import Dictionary\n",
    "from gensim.models.coherencemodel import CoherenceModel\n",
    "\n",
    "# Load the data\n",
    "file_path = 'news_articles.csv'\n",
    "news_articles_df = pd.read_csv(file_path)\n",
    "\n",
    "# Clean the text data\n",
    "def clean_text(text):\n",
    "    text = re.sub(r'[^A-Za-z\\s]', '', text)\n",
    "    text = re.sub(r'\\s+', ' ', text).strip()\n",
    "    return text.lower()\n",
    "\n",
    "news_articles_df['cleaned_content'] = news_articles_df['content'].apply(lambda x: clean_text(str(x)))\n",
    "\n",
    "# Convert the cleaned text into a list of tokenized words\n",
    "tokenized_content = [text.split() for text in news_articles_df['cleaned_content']]\n",
    "\n",
    "# Create a dictionary and corpus for the coherence model (for bigrams)\n",
    "dictionary = Dictionary(tokenized_content)\n",
    "\n",
    "# Use TF-IDF vectorizer for bigrams\n",
    "tfidf_vectorizer_bigrams = TfidfVectorizer(stop_words='english', ngram_range=(2, 2), max_features=1000)\n",
    "tfidf_matrix_bigrams = tfidf_vectorizer_bigrams.fit_transform(news_articles_df['cleaned_content'])\n",
    "\n",
    "# Fit the NMF model on the bigram matrix\n",
    "nmf_model_bigrams = NMF(n_components=5, random_state=42)\n",
    "nmf_topics_bigrams = nmf_model_bigrams.fit_transform(tfidf_matrix_bigrams)\n",
    "\n",
    "# Function to extract top words for coherence scoring\n",
    "def get_top_words_for_coherence(model, feature_names, n_words=10):\n",
    "    topics = []\n",
    "    for topic_idx, topic in enumerate(model.components_):\n",
    "        top_words_idx = topic.argsort()[:-n_words - 1:-1]\n",
    "        top_words = [feature_names[i] for i in top_words_idx]\n",
    "        topics.append(top_words)\n",
    "    return topics\n",
    "\n",
    "# Get the bigrams for NMF for coherence calculation\n",
    "tfidf_feature_names_bigrams = tfidf_vectorizer_bigrams.get_feature_names_out()\n",
    "bigrams_for_coherence = get_top_words_for_coherence(nmf_model_bigrams, tfidf_feature_names_bigrams)\n",
    "\n",
    "# Adjust the format of the topics by splitting bigrams into individual words for the coherence model\n",
    "bigrams_for_coherence_split = [[word for bigram in topic for word in bigram.split()] for topic in bigrams_for_coherence]\n",
    "\n",
    "# Calculate the coherence score using 'c_v' metric\n",
    "coherence_model_split = CoherenceModel(topics=bigrams_for_coherence_split, texts=tokenized_content, dictionary=dictionary, coherence='c_v')\n",
    "coherence_score_split = coherence_model_split.get_coherence()\n",
    "\n",
    "# Print the coherence score\n",
    "print(\"Coherence Score:\", coherence_score_split)\n"
   ]
  },
  {
   "cell_type": "markdown",
   "metadata": {},
   "source": [
    "A coherence score of 0.74 is considered reasonably good for topic modeling. This indicates that the topics generated by the NMF model with bigrams are fairly coherent and meaningful, with words in each topic being semantically related.\n",
    "\n"
   ]
  },
  {
   "cell_type": "markdown",
   "metadata": {},
   "source": [
    "# Article Classification"
   ]
  },
  {
   "cell_type": "code",
   "execution_count": 3,
   "metadata": {},
   "outputs": [
    {
     "data": {
      "text/html": [
       "<div>\n",
       "<style scoped>\n",
       "    .dataframe tbody tr th:only-of-type {\n",
       "        vertical-align: middle;\n",
       "    }\n",
       "\n",
       "    .dataframe tbody tr th {\n",
       "        vertical-align: top;\n",
       "    }\n",
       "\n",
       "    .dataframe thead th {\n",
       "        text-align: right;\n",
       "    }\n",
       "</style>\n",
       "<table border=\"1\" class=\"dataframe\">\n",
       "  <thead>\n",
       "    <tr style=\"text-align: right;\">\n",
       "      <th></th>\n",
       "      <th>title</th>\n",
       "      <th>cleaned_content</th>\n",
       "      <th>Topic_Assignment</th>\n",
       "    </tr>\n",
       "  </thead>\n",
       "  <tbody>\n",
       "    <tr>\n",
       "      <th>0</th>\n",
       "      <td>[Removed]</td>\n",
       "      <td>removed</td>\n",
       "      <td>0</td>\n",
       "    </tr>\n",
       "    <tr>\n",
       "      <th>1</th>\n",
       "      <td>Will Elon Musk Tip the Election for Trump?</td>\n",
       "      <td>leah feiger so trump brings musk out he calls ...</td>\n",
       "      <td>4</td>\n",
       "    </tr>\n",
       "    <tr>\n",
       "      <th>2</th>\n",
       "      <td>The Postmaster General Is Stoking Election Fea...</td>\n",
       "      <td>ever since he was nominated by donald trumps a...</td>\n",
       "      <td>4</td>\n",
       "    </tr>\n",
       "    <tr>\n",
       "      <th>3</th>\n",
       "      <td>The Shade Room Founder Is Ready to Dial Down t...</td>\n",
       "      <td>angie nwandu launched the shade room in as a s...</td>\n",
       "      <td>4</td>\n",
       "    </tr>\n",
       "    <tr>\n",
       "      <th>4</th>\n",
       "      <td>Trump's $100,000 Watches Are the Most Tragic C...</td>\n",
       "      <td>celebrities partnering with watch brands is no...</td>\n",
       "      <td>3</td>\n",
       "    </tr>\n",
       "  </tbody>\n",
       "</table>\n",
       "</div>"
      ],
      "text/plain": [
       "                                               title  \\\n",
       "0                                          [Removed]   \n",
       "1         Will Elon Musk Tip the Election for Trump?   \n",
       "2  The Postmaster General Is Stoking Election Fea...   \n",
       "3  The Shade Room Founder Is Ready to Dial Down t...   \n",
       "4  Trump's $100,000 Watches Are the Most Tragic C...   \n",
       "\n",
       "                                     cleaned_content  Topic_Assignment  \n",
       "0                                            removed                 0  \n",
       "1  leah feiger so trump brings musk out he calls ...                 4  \n",
       "2  ever since he was nominated by donald trumps a...                 4  \n",
       "3  angie nwandu launched the shade room in as a s...                 4  \n",
       "4  celebrities partnering with watch brands is no...                 3  "
      ]
     },
     "execution_count": 3,
     "metadata": {},
     "output_type": "execute_result"
    }
   ],
   "source": [
    "# Reloading the data and necessary steps after environment reset\n",
    "\n",
    "import pandas as pd\n",
    "from sklearn.decomposition import NMF\n",
    "from sklearn.feature_extraction.text import TfidfVectorizer\n",
    "import re\n",
    "\n",
    "# Load the data again\n",
    "file_path = 'news_articles.csv'\n",
    "news_articles_df = pd.read_csv(file_path)\n",
    "\n",
    "# Clean the text data\n",
    "def clean_text(text):\n",
    "    text = re.sub(r'[^A-Za-z\\s]', '', text)\n",
    "    text = re.sub(r'\\s+', ' ', text).strip()\n",
    "    return text.lower()\n",
    "\n",
    "news_articles_df['cleaned_content'] = news_articles_df['content'].apply(lambda x: clean_text(str(x)))\n",
    "\n",
    "# Use TF-IDF vectorizer for bigrams\n",
    "tfidf_vectorizer_bigrams = TfidfVectorizer(stop_words='english', ngram_range=(2, 2), max_features=1000)\n",
    "tfidf_matrix_bigrams = tfidf_vectorizer_bigrams.fit_transform(news_articles_df['cleaned_content'])\n",
    "\n",
    "# Fit the NMF model on the bigram matrix\n",
    "nmf_model_bigrams = NMF(n_components=5, random_state=42)\n",
    "nmf_topics_bigrams = nmf_model_bigrams.fit_transform(tfidf_matrix_bigrams)\n",
    "\n",
    "# Get the topic distribution matrix from the NMF model\n",
    "topic_distribution = nmf_model_bigrams.transform(tfidf_matrix_bigrams)\n",
    "\n",
    "# Assign each article to the topic with the highest score\n",
    "article_topics = topic_distribution.argmax(axis=1)\n",
    "\n",
    "# Add the topic assignments to the original dataframe\n",
    "news_articles_df['Topic_Assignment'] = article_topics\n",
    "\n",
    "# Display the classified articles with their assigned topics without using ace_tools\n",
    "news_articles_df[['title', 'cleaned_content', 'Topic_Assignment']].head()\n"
   ]
  },
  {
   "cell_type": "markdown",
   "metadata": {},
   "source": [
    "# Topic distribution across articles"
   ]
  },
  {
   "cell_type": "code",
   "execution_count": 4,
   "metadata": {},
   "outputs": [
    {
     "data": {
      "image/png": "[encoded data removed]",
      "text/plain": [
       "<Figure size 800x600 with 1 Axes>"
      ]
     },
     "metadata": {},
     "output_type": "display_data"
    }
   ],
   "source": [
    "import matplotlib.pyplot as plt\n",
    "import numpy as np\n",
    "\n",
    "# Count the number of articles assigned to each topic\n",
    "topic_counts = np.bincount(article_topics)\n",
    "\n",
    "# Plot the distribution of topics across articles\n",
    "plt.figure(figsize=(8, 6))\n",
    "plt.bar(range(len(topic_counts)), topic_counts, color='lightblue')\n",
    "plt.xlabel('Topic Number')\n",
    "plt.ylabel('Number of Articles')\n",
    "plt.title('Topic Distribution Across Articles')\n",
    "plt.xticks(range(len(topic_counts)))\n",
    "plt.show()\n"
   ]
  },
  {
   "cell_type": "markdown",
   "metadata": {},
   "source": [
    "# Identify most common topic\n"
   ]
  },
  {
   "cell_type": "code",
   "execution_count": 5,
   "metadata": {},
   "outputs": [
    {
     "data": {
      "text/plain": [
       "(43,\n",
       "                                                title  \\\n",
       " 1         Will Elon Musk Tip the Election for Trump?   \n",
       " 2  The Postmaster General Is Stoking Election Fea...   \n",
       " 3  The Shade Room Founder Is Ready to Dial Down t...   \n",
       " 5  The US Could Finally Ban Inane Forced Password...   \n",
       " 6  Cat ‘Stolen’ by Haitian Migrants in Ohio Was A...   \n",
       " \n",
       "                                      cleaned_content  \n",
       " 1  leah feiger so trump brings musk out he calls ...  \n",
       " 2  ever since he was nominated by donald trumps a...  \n",
       " 3  angie nwandu launched the shade room in as a s...  \n",
       " 5  researchers found a vulnerability in a kia web...  \n",
       " 6  donald trumps presidential campaign has spent ...  )"
      ]
     },
     "execution_count": 5,
     "metadata": {},
     "output_type": "execute_result"
    }
   ],
   "source": [
    "# Identify the most common topic\n",
    "most_common_topic = np.argmax(topic_counts)\n",
    "\n",
    "# Filter articles assigned to the most common topic\n",
    "most_common_topic_articles = news_articles_df[news_articles_df['Topic_Assignment'] == most_common_topic]\n",
    "\n",
    "# Display the number of articles and a preview of articles for the most common topic\n",
    "most_common_topic_count = most_common_topic_articles.shape[0]\n",
    "most_common_topic_articles_preview = most_common_topic_articles[['title', 'cleaned_content']].head()\n",
    "\n",
    "most_common_topic_count, most_common_topic_articles_preview\n"
   ]
  },
  {
   "cell_type": "markdown",
   "metadata": {},
   "source": [
    "The most common topic appears in **43 articles**. Here is a preview of some articles classified under this topic:\n",
    "\n",
    "1. **Title**: Will Elon Musk Tip the Election for Trump?  \n",
    "   **Content**: leah feiger so trump brings musk out he calls ...\n",
    "\n",
    "2. **Title**: The Postmaster General Is Stoking Election Fears  \n",
    "   **Content**: ever since he was nominated by donald trumps a...\n",
    "\n",
    "3. **Title**: The Shade Room Founder Is Ready to Dial Down the Gossip  \n",
    "   **Content**: angie nwandu launched the shade room in as a s...\n",
    "\n",
    "4. **Title**: The US Could Finally Ban Inane Forced Password Rules  \n",
    "   **Content**: researchers found a vulnerability in a kia web...\n",
    "\n",
    "5. **Title**: Cat ‘Stolen’ by Haitian Migrants in Ohio Was Adopted   \n",
    "   **Content**: donald trumps presidential campaign has spent ...\n",
    "\n",
    "These articles seem to revolve around political figures, elections, and controversies, particularly involving Donald Trump."
   ]
  }
 ],
 "metadata": {
  "kernelspec": {
   "display_name": "Python 3",
   "language": "python",
   "name": "python3"
  },
  "language_info": {
   "codemirror_mode": {
    "name": "ipython",
    "version": 3
   },
   "file_extension": ".py",
   "mimetype": "text/x-python",
   "name": "python",
   "nbconvert_exporter": "python",
   "pygments_lexer": "ipython3",
   "version": "3.12.5"
  }
 },
 "nbformat": 4,
 "nbformat_minor": 2
}
