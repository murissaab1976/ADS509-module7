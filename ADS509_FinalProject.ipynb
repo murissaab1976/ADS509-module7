{
 "cells": [
  {
   "cell_type": "markdown",
   "metadata": {},
   "source": [
    "```\n",
    "Muris Saab / Subin An\n",
    "ADS509 - Final Project\n",
    "University of San Diego"
   ]
  },
  {
   "cell_type": "markdown",
   "metadata": {},
   "source": [
    "Title:\n",
    "Automated Topic Classification and Discovery in News Articles Using Text Mining Techniques\n",
    "\n",
    "Short Description:\n",
    "This project aims to explore the automated classification and topic discovery of news articles gathered from various categories using the NewsAPI. The primary goal is to build a classification model to categorize articles into predefined groups such as \"Technology,\" \"Sports,\" \"Health,\" and \"Business,\" followed by topic modeling to uncover latent themes. The project will compare how well the discovered topics match with the pre-existing categories.\n",
    "\n",
    "Objectives:\n",
    "To collect raw news article data via the NewsAPI.\n",
    "To clean, tokenize, and normalize the data for analysis.\n",
    "To build a classification model to categorize the articles based on predefined categories.\n",
    "To build a topic model to discover underlying themes in the data.\n",
    "To evaluate the accuracy of the classification model and compare the topics discovered through topic modeling with the pre-existing categories.\n",
    "To provide insights into how well the discovered topics align with the original article categories.\n"
   ]
  },
  {
   "cell_type": "markdown",
   "metadata": {},
   "source": [
    "Query the dataset via public API\n",
    "Note: free subscription only allows limited number of articles (30 days)"
   ]
  },
  {
   "cell_type": "code",
   "execution_count": 2,
   "metadata": {},
   "outputs": [
    {
     "name": "stdout",
     "output_type": "stream",
     "text": [
      "                                source             author  \\\n",
      "0    {'id': None, 'name': '[Removed]'}               None   \n",
      "1  {'id': None, 'name': 'Gizmodo.com'}        Lucas Ropek   \n",
      "2     {'id': 'wired', 'name': 'Wired'}       Jason Parham   \n",
      "3     {'id': 'wired', 'name': 'Wired'}  Alistair Charlton   \n",
      "4     {'id': 'wired', 'name': 'Wired'}    Lily Hay Newman   \n",
      "\n",
      "                                               title  \\\n",
      "0                                          [Removed]   \n",
      "1  The Postmaster General Is Stoking Election Fea...   \n",
      "2  The Shade Room Founder Is Ready to Dial Down t...   \n",
      "3  Trump's $100,000 Watches Are the Most Tragic C...   \n",
      "4  The US Could Finally Ban Inane Forced Password...   \n",
      "\n",
      "                                         description  \\\n",
      "0                                          [Removed]   \n",
      "1  Like four years ago, the Trump-nominated Trump...   \n",
      "2  Angie Nwandu dishes on Diddy, Donald Trump, th...   \n",
      "3  Former president Donald Trump wants you to buy...   \n",
      "4  Plus: The US Justice Department indicts three ...   \n",
      "\n",
      "                                                 url  \\\n",
      "0                                https://removed.com   \n",
      "1  https://gizmodo.com/the-postmaster-general-is-...   \n",
      "2  https://www.wired.com/story/dial-up-angie-nwan...   \n",
      "3  https://www.wired.com/story/trumps-dollar10000...   \n",
      "4  https://www.wired.com/story/nist-password-guid...   \n",
      "\n",
      "                                          urlToImage           publishedAt  \\\n",
      "0                                               None  2024-09-17T13:00:22Z   \n",
      "1  https://gizmodo.com/app/uploads/2024/09/Postma...  2024-09-20T20:05:21Z   \n",
      "2  https://media.wired.com/photos/66ec717e23695b0...  2024-09-20T17:49:30Z   \n",
      "3  https://media.wired.com/photos/66f6c5b5c143415...  2024-09-27T17:48:08Z   \n",
      "4  https://media.wired.com/photos/66f71df9f2d2c60...  2024-09-28T10:30:00Z   \n",
      "\n",
      "                                             content  \n",
      "0                                          [Removed]  \n",
      "1  Ever since he was nominated by Donald Trump’s ...  \n",
      "2  Angie Nwandu launched The Shade Room in 2014 a...  \n",
      "3  Celebrities partnering with watch brands is no...  \n",
      "4  Researchers found a vulnerability in a Kia web...  \n"
     ]
    }
   ],
   "source": [
    "import requests\n",
    "import pandas as pd\n",
    "\n",
    "url = 'https://newsapi.org/v2/everything?q=trump&from=2024-09-05&to=2024-10-01&apiKey=c6ee2f8af5044d3a9f8647ad5c5e985a'\n",
    "\n",
    "response = requests.get(url)\n",
    "\n",
    "data = response.json()\n",
    "\n",
    "articles = data['articles']\n",
    "    \n",
    "df = pd.DataFrame(articles)\n",
    "\n",
    "print(df.head()) \n"
   ]
  },
  {
   "cell_type": "code",
   "execution_count": null,
   "metadata": {},
   "outputs": [],
   "source": [
    "Save to CSV"
   ]
  },
  {
   "cell_type": "code",
   "execution_count": 3,
   "metadata": {},
   "outputs": [],
   "source": [
    "df.to_csv('news_articles.csv', index=False)\n"
   ]
  }
 ],
 "metadata": {
  "kernelspec": {
   "display_name": "Python 3",
   "language": "python",
   "name": "python3"
  },
  "language_info": {
   "codemirror_mode": {
    "name": "ipython",
    "version": 3
   },
   "file_extension": ".py",
   "mimetype": "text/x-python",
   "name": "python",
   "nbconvert_exporter": "python",
   "pygments_lexer": "ipython3",
   "version": "3.12.5"
  }
 },
 "nbformat": 4,
 "nbformat_minor": 2
}
